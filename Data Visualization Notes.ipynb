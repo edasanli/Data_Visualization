{
 "cells": [
  {
   "cell_type": "code",
   "execution_count": null,
   "metadata": {},
   "outputs": [],
   "source": [
    "import numpy as np\n",
    "import pandas as pd\n",
    "import matplotlib.pyplot as plt\n",
    "import seaborn as sb\n",
    "\n",
    "%matplotlib inline"
   ]
  },
  {
   "cell_type": "code",
   "execution_count": null,
   "metadata": {},
   "outputs": [],
   "source": [
    "base_color = sb.color_palette()[0]\n",
    "cat_order = df['cat_var'].value_counts().index\n",
    "sb.countplot(data = df, x = 'cat_var', color = base_color, order = cat_order)"
   ]
  },
  {
   "cell_type": "markdown",
   "metadata": {},
   "source": [
    "**Absolute vs. Relative Frequency**\n",
    "\n",
    "\n",
    "By default, seaborn's countplot function will summarize and plot the data in terms of absolute frequency, or pure counts. In certain cases, you might want to understand the distribution of data or want to compare levels in terms of proportions of the whole. In this case, you will want to plot the data in terms of relative frequency, where the height indicates the proportion of data taking each level, rather than the absolute count.\n",
    "\n",
    "One method of plotting the data in terms of relative frequency on a bar chart is to just relabel the counts axis in terms of proportions. The underlying data will be the same, it will simply be the scale of the axis ticks that will be changed."
   ]
  },
  {
   "cell_type": "code",
   "execution_count": null,
   "metadata": {},
   "outputs": [],
   "source": [
    "# get proportion taken by most common group for derivation\n",
    "# of tick marks\n",
    "n_points = df.shape[0]\n",
    "max_count = df['cat_var'].value_counts().max()\n",
    "max_prop = max_count / n_points\n",
    "\n",
    "# generate tick mark locations and names\n",
    "tick_props = np.arange(0, max_prop, 0.05)\n",
    "tick_names = ['{:0.2f}'.format(v) for v in tick_props]\n",
    "\n",
    "# create the plot\n",
    "base_color = sb.color_palette()[0]\n",
    "sb.countplot(data = df, x = 'cat_var', color = base_color)\n",
    "plt.yticks(tick_props * n_points, tick_names)\n",
    "plt.ylabel('proportion')"
   ]
  },
  {
   "cell_type": "markdown",
   "metadata": {},
   "source": [
    "The xticks and yticks functions aren't only about rotating the tick labels. You can also get and set their locations and labels as well. The first argument takes the tick locations: in this case, the tick proportions multiplied back to be on the scale of counts. The second argument takes the tick names: in this case, the tick proportions formatted as strings to two decimal places.\n",
    "\n",
    "I've also added a ylabel call to make it clear that we're no longer working with straight counts.\n",
    "\n"
   ]
  },
  {
   "cell_type": "markdown",
   "metadata": {},
   "source": [
    "**Additional Variation**\n",
    "\n",
    "\n",
    "Rather than plotting the data on a relative frequency scale, you might use text annotations to label the frequencies on bars instead. This requires writing a loop over the tick locations and labels and adding one text element for each bar."
   ]
  },
  {
   "cell_type": "code",
   "execution_count": null,
   "metadata": {},
   "outputs": [],
   "source": [
    "# create the plot\n",
    "base_color = sb.color_palette()[0]\n",
    "sb.countplot(data = df, x = 'cat_var', color = base_color)\n",
    "\n",
    "# add annotations\n",
    "n_points = df.shape[0]\n",
    "cat_counts = df['cat_var'].value_counts()\n",
    "locs, labels = plt.xticks() # get the current tick locations and labels\n",
    "\n",
    "# loop through each pair of locations and labels\n",
    "for loc, label in zip(locs, labels):\n",
    "\n",
    "    # get the text property for the label to get the correct count\n",
    "    count = cat_counts[label.get_text()]\n",
    "    pct_string = '{:0.1f}%'.format(100*count/n_points)\n",
    "\n",
    "    # print the annotation just below the top of the bar\n",
    "    plt.text(loc, count-8, pct_string, ha = 'center', color = 'w')"
   ]
  },
  {
   "cell_type": "markdown",
   "metadata": {},
   "source": [
    "**Counting Missing Data**\n",
    "One interesting way we can apply bar charts is through the visualization of missing data. We can use pandas functions to create a table with the number of missing values in each column."
   ]
  },
  {
   "cell_type": "code",
   "execution_count": null,
   "metadata": {},
   "outputs": [],
   "source": [
    "df.isna().sum()"
   ]
  },
  {
   "cell_type": "markdown",
   "metadata": {},
   "source": [
    "What if we want to visualize these missing value counts? We could treat the variable names as levels of a categorical variable, and create a resulting bar plot. However, since the data is not in its tidy, unsummarized form, we need to make use of a different plotting function. Seaborn's barplot function is built to depict a summary of one quantitative variable against levels of a second, qualitative variable, but can be used here."
   ]
  },
  {
   "cell_type": "code",
   "execution_count": null,
   "metadata": {},
   "outputs": [],
   "source": [
    "na_counts = df.isna().sum()\n",
    "base_color = sb.color_palette()[0]\n",
    "sb.barplot(na_counts.index.values, na_counts, color = base_color)"
   ]
  },
  {
   "cell_type": "code",
   "execution_count": null,
   "metadata": {},
   "outputs": [],
   "source": []
  },
  {
   "cell_type": "code",
   "execution_count": null,
   "metadata": {},
   "outputs": [],
   "source": []
  }
 ],
 "metadata": {
  "kernelspec": {
   "display_name": "Python 3",
   "language": "python",
   "name": "python3"
  },
  "language_info": {
   "codemirror_mode": {
    "name": "ipython",
    "version": 3
   },
   "file_extension": ".py",
   "mimetype": "text/x-python",
   "name": "python",
   "nbconvert_exporter": "python",
   "pygments_lexer": "ipython3",
   "version": "3.7.0"
  }
 },
 "nbformat": 4,
 "nbformat_minor": 2
}
